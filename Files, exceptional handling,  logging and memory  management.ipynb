{
 "cells": [
  {
   "cell_type": "markdown",
   "id": "b34c494f-4c79-433a-872c-c1d78c48c312",
   "metadata": {},
   "source": [
    "# ASSIGNMENT ANSWER"
   ]
  },
  {
   "cell_type": "markdown",
   "id": "a6d98bf3-13df-4ab3-8436-16f4bf95738f",
   "metadata": {},
   "source": [
    "## Q.1) What is the difference between interpreted and compiled languages?"
   ]
  },
  {
   "cell_type": "markdown",
   "id": "7b97ecd4-f869-40ad-9ed2-895b272977f2",
   "metadata": {},
   "source": [
    "### Ans:- i)Interpreted:- code is executed line by line.This means the program runs immediately but may be slower because the interpreter processes each instruction in real time python,javascript. ii)Compiled:- Code is converted into machine language all at once by a compiler before execution.This usually makes the program run faster since the machine executes a ready made binary file.Compiled can take extra time upfront."
   ]
  },
  {
   "cell_type": "markdown",
   "id": "16d5bd40-b0f6-47f7-8ee9-94e84ee5fb88",
   "metadata": {},
   "source": [
    "## Q.2) What is exception handling in Python?"
   ]
  },
  {
   "cell_type": "markdown",
   "id": "10e6c836-232c-41a4-b942-b537ed57a446",
   "metadata": {},
   "source": [
    "### Ans:-Exception handling in Python is a mechanism to manage runtime errors.It allows programs to continue running even when an error occurs.Python uses try,except,finally, and else blocks to handle exceptions."
   ]
  },
  {
   "cell_type": "code",
   "execution_count": 1,
   "id": "cd362245-d20e-45b7-aefa-a608e462d641",
   "metadata": {},
   "outputs": [
    {
     "name": "stdout",
     "output_type": "stream",
     "text": [
      "Can not divide by zero\n"
     ]
    }
   ],
   "source": [
    "try:\n",
    "    result = 10 / 0\n",
    "except ZeroDivisionError:\n",
    "    print(\"Can not divide by zero\")"
   ]
  },
  {
   "cell_type": "markdown",
   "id": "32100606-8aec-4150-8c11-fb02e6d2c33d",
   "metadata": {},
   "source": [
    "## Q.3) What is the purpose of the finally block in exception handling?"
   ]
  },
  {
   "cell_type": "markdown",
   "id": "545a1bfd-1915-4cd7-9c69-e24fc3b2dc77",
   "metadata": {},
   "source": [
    "### Ans:-The purpose of the finaly block it is connonly used for resource cleanup and as closing files or relesing resources."
   ]
  },
  {
   "cell_type": "code",
   "execution_count": 2,
   "id": "52622fd3-4dbb-4b09-90c7-d1f11e778b71",
   "metadata": {},
   "outputs": [
    {
     "name": "stdout",
     "output_type": "stream",
     "text": [
      "Clean complete.\n"
     ]
    }
   ],
   "source": [
    "try:\n",
    "    file = open(\"model.txt\", \"r\")\n",
    "    content = file.read()\n",
    "except FileNotFoundError:\n",
    "    print(\"File not found\")\n",
    "finally:\n",
    "    file.close()\n",
    "\n",
    "print(\"Clean complete.\")"
   ]
  },
  {
   "cell_type": "markdown",
   "id": "44e7630a-5cb0-40dc-b70c-22ab40bd273e",
   "metadata": {},
   "source": [
    "## Q.4) What is logging in Python?"
   ]
  },
  {
   "cell_type": "markdown",
   "id": "3b79e87a-6720-4642-98e4-d53911ce9506",
   "metadata": {},
   "source": [
    "### Ans:-Logging in python is a way to track events and errors in a program,making debugging and monitoring easier.Python logging module provides a flexible logging options."
   ]
  },
  {
   "cell_type": "code",
   "execution_count": 3,
   "id": "6635f1d8-d9ea-44b9-ab5b-70c8b36d6c50",
   "metadata": {},
   "outputs": [
    {
     "name": "stderr",
     "output_type": "stream",
     "text": [
      "INFO:root:This is an informational message.\n",
      "WARNING:root:This is a warning\n",
      "ERROR:root:This is an error\n"
     ]
    }
   ],
   "source": [
    "import logging\n",
    "logging.basicConfig(level=logging.INFO)\n",
    "logging.info(\"This is an informational message.\")\n",
    "logging.warning(\"This is a warning\")\n",
    "logging.error(\"This is an error\")"
   ]
  },
  {
   "cell_type": "raw",
   "id": "c998d3a0-5568-4670-9e14-c96a0ee0ae67",
   "metadata": {},
   "source": [
    "Q.5) What is the significance of the __del__ method in Python?"
   ]
  },
  {
   "cell_type": "raw",
   "id": "8a8bffbb-b50c-48e2-a9a9-445d5b4e4293",
   "metadata": {},
   "source": [
    "Ans:-The __del__ method in python is a destructor method that is called when an object is about to be destroyed.It is used to perform cleanup actions."
   ]
  },
  {
   "cell_type": "code",
   "execution_count": 4,
   "id": "e1520a5b-c837-4a22-97bb-22b00d126323",
   "metadata": {},
   "outputs": [
    {
     "name": "stdout",
     "output_type": "stream",
     "text": [
      "File opend.\n",
      "File closed and object delet.\n"
     ]
    }
   ],
   "source": [
    "class Myclass:\n",
    "    def __init__(self,filename):\n",
    "        self.file = open(filename, \"w\")\n",
    "        print(\"File opend.\")\n",
    "    def __del__(self):\n",
    "        self.file.close()\n",
    "        print(\"File closed and object delet.\")\n",
    "\n",
    "file_obj = Myclass(\"model.txt\")\n",
    "del file_obj"
   ]
  },
  {
   "cell_type": "markdown",
   "id": "eb03a17c-a5df-40ed-9ec6-4974fc47b9b7",
   "metadata": {},
   "source": [
    "## Q.6)What is the difference between import and from ... import in Python"
   ]
  },
  {
   "cell_type": "markdown",
   "id": "d3f40aad-3a8e-432b-9db7-bc3734dae642",
   "metadata": {},
   "source": [
    "### Ans:-i)Import:-Imports the entire module and functions are accessed as module.function(). ii)From...Import:- The statement imports specific functions,classes,variables directly.You can call them without using the module name."
   ]
  },
  {
   "cell_type": "code",
   "execution_count": 5,
   "id": "d3c01c77-1c53-434d-846c-a337d8224299",
   "metadata": {},
   "outputs": [
    {
     "name": "stdout",
     "output_type": "stream",
     "text": [
      "4.0\n",
      "5.0\n"
     ]
    }
   ],
   "source": [
    "import math\n",
    "print(math.sqrt(16))\n",
    "from math import sqrt\n",
    "print(sqrt(25))"
   ]
  },
  {
   "cell_type": "markdown",
   "id": "a2eebf8b-703d-456d-a7c8-d5fe38df4f00",
   "metadata": {},
   "source": [
    "## Q.7) How can you handle multiple exceptions in Python?"
   ]
  },
  {
   "cell_type": "markdown",
   "id": "4c67bd6e-a07a-45dd-92d9-aa8ca5be5752",
   "metadata": {},
   "source": [
    "### Ans:-Multiple exceptions can be handled using a tuple in the except block."
   ]
  },
  {
   "cell_type": "code",
   "execution_count": 6,
   "id": "c59b849d-1953-4c4a-9cc8-963a07a8c8fb",
   "metadata": {},
   "outputs": [
    {
     "name": "stdout",
     "output_type": "stream",
     "text": [
      "Successfully converted: 42\n"
     ]
    }
   ],
   "source": [
    "try:\n",
    "    num = int(\"42\")\n",
    "except ValueError:\n",
    "    print(\"Failed to convert string to number.\")\n",
    "else:\n",
    "    print(f\"Successfully converted: {num}\")"
   ]
  },
  {
   "cell_type": "markdown",
   "id": "9597e1f0-baed-4557-ac14-33e4d8722eac",
   "metadata": {},
   "source": [
    "## Q.8) What is the purpose of the with statement when handling files in Python?"
   ]
  },
  {
   "cell_type": "markdown",
   "id": "b7973a9f-36fa-4d68-82e0-f6083712c28c",
   "metadata": {},
   "source": [
    "### Ans:-The with statement in python is used to handle files efficiently and safely.They are properly opened and closed.It simplifies file handling by automatically managing file closure."
   ]
  },
  {
   "cell_type": "code",
   "execution_count": 7,
   "id": "7cef76e3-6760-435f-bb8d-439ccbd4276d",
   "metadata": {},
   "outputs": [],
   "source": [
    "with open(\"model.txt\", \"r\") as file:\n",
    "    content = file.read()"
   ]
  },
  {
   "cell_type": "markdown",
   "id": "73fab142-d370-43a6-903c-2d3ebd6e6719",
   "metadata": {},
   "source": [
    "## Q.9) What is the difference between multithreading and multiprocessing?"
   ]
  },
  {
   "cell_type": "markdown",
   "id": "91534b6a-ad68-452b-9eb6-b6f51a5c5df9",
   "metadata": {},
   "source": [
    "### Ans:-i)Multithreading:- Multithreading use multiple threads within the same process and they are share memory space making communication easier,best for I/O-bound tasks,like network requests or reading files. ii)Multiprocessing:- Multiprocessing uses multiple processes each with its own memory space.Multiprocess runs independently avoiding global interpreter lock."
   ]
  },
  {
   "cell_type": "code",
   "execution_count": 8,
   "id": "f04151c2-6c0c-48c7-824c-a62e38cf4119",
   "metadata": {},
   "outputs": [
    {
     "name": "stdout",
     "output_type": "stream",
     "text": [
      "0\n",
      "1\n",
      "2\n",
      "3\n",
      "4\n"
     ]
    }
   ],
   "source": [
    "import threading\n",
    "def print_number():\n",
    "    for i in range(5):\n",
    "        print(i)\n",
    "\n",
    "thread = threading.Thread(target=print_number)\n",
    "thread.start()\n",
    "thread.join()"
   ]
  },
  {
   "cell_type": "code",
   "execution_count": 9,
   "id": "0d62227b-4f7e-46ac-8ee2-37badcb50175",
   "metadata": {},
   "outputs": [],
   "source": [
    "import multiprocessing\n",
    "def print_number():\n",
    "    for i in range(5):\n",
    "        print(i)\n",
    "\n",
    "process = multiprocessing.Process(target=print_number)\n",
    "process.start()\n",
    "process.join()"
   ]
  },
  {
   "cell_type": "markdown",
   "id": "bd666a68-f64f-40ad-8222-dbf76c819dc2",
   "metadata": {},
   "source": [
    "## Q.10) What are the advantages of using logging in a program?"
   ]
  },
  {
   "cell_type": "markdown",
   "id": "a4209241-9fbe-464b-9a05-9ad7f5bcf21a",
   "metadata": {},
   "source": [
    "### Ans:-Logging allows for real time tracking of program execution,debugging and error analysis.It helps in recording important events without interrupting program flow."
   ]
  },
  {
   "cell_type": "markdown",
   "id": "0e1f88c5-9b2b-4ad4-af94-31c1ec349b81",
   "metadata": {},
   "source": [
    "## Q.11) What is memory management in Python?"
   ]
  },
  {
   "cell_type": "markdown",
   "id": "87e1c0da-96a3-472c-875e-28b49cf9ddd3",
   "metadata": {},
   "source": [
    "### Ans:-Memory management in python involves allocating tracking and freeing memory.Python uses automatic garbage collection to manage memory efficiently."
   ]
  },
  {
   "cell_type": "markdown",
   "id": "2768bdae-c718-42d8-9b0c-7656f9fb58d0",
   "metadata": {},
   "source": [
    "## Q.12) What are the basic steps involved in exception handling in Python?"
   ]
  },
  {
   "cell_type": "markdown",
   "id": "d2f6a3e1-00a7-4267-82f2-7d8bd06072a4",
   "metadata": {},
   "source": [
    "### Ans:-i) The try block to wrap the code that might cause an exception. (ii)The except block to handle the exception if it occurs. (iii)Use the finally block to execute code regardless of exceptions."
   ]
  },
  {
   "cell_type": "markdown",
   "id": "a4094a8c-4850-483a-b84e-8800c53c4525",
   "metadata": {},
   "source": [
    "## Q.13) Why is memory management important in Python?"
   ]
  },
  {
   "cell_type": "markdown",
   "id": "4b6204c5-9d16-4015-ae00-fbf813870cec",
   "metadata": {},
   "source": [
    "### Ans:-Memory management is crucial in python because it ensures efficient resource usage prevents memoryleaks and optimizes program performance.Python uses automatic memory management."
   ]
  },
  {
   "cell_type": "code",
   "execution_count": 10,
   "id": "53f9309b-bd6e-4549-aa25-15bda3c60cd9",
   "metadata": {},
   "outputs": [
    {
     "name": "stdout",
     "output_type": "stream",
     "text": [
      "Object created.\n",
      "Object destroyed.\n"
     ]
    },
    {
     "data": {
      "text/plain": [
       "31"
      ]
     },
     "execution_count": 10,
     "metadata": {},
     "output_type": "execute_result"
    }
   ],
   "source": [
    "import gc\n",
    "class Files:\n",
    "    def __init__(self):\n",
    "        print(\"Object created.\")\n",
    "    def __del__(self):\n",
    "        print(\"Object destroyed.\")\n",
    "\n",
    "obj = Files()\n",
    "del obj\n",
    "gc.collect()"
   ]
  },
  {
   "cell_type": "markdown",
   "id": "4da790dc-0555-479a-9966-bcfaf421ba0f",
   "metadata": {},
   "source": [
    "## Q.14) What is the role of try and except in exception handling?"
   ]
  },
  {
   "cell_type": "markdown",
   "id": "9666204b-ba67-4cd7-93d2-315b179bc755",
   "metadata": {},
   "source": [
    "### Ans:-The try and except blocks are fundamental to pyton exception handling mechanism.Their role is to gracefully manage runtime error that might occur during the execution of your code."
   ]
  },
  {
   "cell_type": "code",
   "execution_count": 11,
   "id": "f1e651bd-06b2-4f3e-8ca0-5f3009c10b6e",
   "metadata": {},
   "outputs": [
    {
     "name": "stdin",
     "output_type": "stream",
     "text": [
      "Enter a number:  50\n"
     ]
    },
    {
     "name": "stdout",
     "output_type": "stream",
     "text": [
      "Cannot divied by zero.\n"
     ]
    }
   ],
   "source": [
    "try:\n",
    "    num =int(input(\"Enter a number: \"))\n",
    "    result = 10 / 0\n",
    "except ValueError:\n",
    "    print(\"Invalid input Please enter a number.\")\n",
    "except ZeroDivisionError:\n",
    "    print(\"Cannot divied by zero.\")"
   ]
  },
  {
   "cell_type": "markdown",
   "id": "e22b8065-a19b-420d-83ed-99f64b24e1b5",
   "metadata": {},
   "source": [
    "## Q.15) How does Python's garbage collection system work?"
   ]
  },
  {
   "cell_type": "markdown",
   "id": "3ecaaf28-39c2-4bf3-8a0f-0770f0a78bb6",
   "metadata": {},
   "source": [
    "### Ans:-Python uses a garbage collector based on reference counting and cyclic garbage collection to free up memory when objects are no longer needed."
   ]
  },
  {
   "cell_type": "markdown",
   "id": "27ae2307-1c6e-43a7-b0e6-aeec08dbcea7",
   "metadata": {},
   "source": [
    "## Q.16) What is the purpose of the else block in exception handling?"
   ]
  },
  {
   "cell_type": "markdown",
   "id": "74b8683e-b966-481a-9f72-c9584e9986d8",
   "metadata": {},
   "source": [
    "### Ans:-The else block in a try except structure is optional and is executed only if the try block completes without raising any exceptions.It is a good place to put code that depends on the successfull execution of the try block."
   ]
  },
  {
   "cell_type": "code",
   "execution_count": 14,
   "id": "32486382-ca87-458d-9c0c-41264817413c",
   "metadata": {},
   "outputs": [
    {
     "name": "stdin",
     "output_type": "stream",
     "text": [
      "Enter a number:  15\n"
     ]
    },
    {
     "name": "stdout",
     "output_type": "stream",
     "text": [
      "Successfull operation: Result is 6.666666666666667\n"
     ]
    }
   ],
   "source": [
    "try:\n",
    "    num = int(input(\"Enter a number: \"))\n",
    "    result = 100 / num\n",
    "except ValuError:\n",
    "    print(\"Invalid input: Please enter a number.\")\n",
    "except ZeroDivisionError:\n",
    "    print(\"You cannot divide by zero.\")\n",
    "else:\n",
    "    print(f\"Successfull operation: Result is {result}\")"
   ]
  },
  {
   "cell_type": "markdown",
   "id": "a714ce06-28e7-4b78-a020-7c479bbff23b",
   "metadata": {},
   "source": [
    "## Q.17) What are the common logging levels in Python?"
   ]
  },
  {
   "cell_type": "markdown",
   "id": "e64bbb9a-21e4-4cb5-9bdf-bc14cff7cb15",
   "metadata": {},
   "source": [
    "### Ans:-The common longging levels in python i)DEBUG ii)INFO iii)WARNING iv)ERROR"
   ]
  },
  {
   "cell_type": "markdown",
   "id": "a70eb812-1a83-48e1-9211-41697a9d7a9d",
   "metadata": {},
   "source": [
    "## Q.18) What is the difference between os.fork() and multiprocessing in Python?"
   ]
  },
  {
   "cell_type": "markdown",
   "id": "10bca6a0-d3af-4212-863a-6f6971289e9d",
   "metadata": {},
   "source": [
    "### Ans:-  i)os.fork():-This is a low level system call available primarily on unix like systems.When os.fork() is called it creates an exact copy of the calling process.This new process is called the child process and the chilld process starts executing from the point where os.fork() was called.The return value of os.fork() differs in the parent and child processes it returns the childs process id in the parent and o in the child.   ii)Multiprocessing:- This is a higher level module that provides a more portable and robust way to create and manage process.The multiprocessing module typically starts a new python interpreter for each child process ensuring that each process has its own independent memory space."
   ]
  },
  {
   "cell_type": "code",
   "execution_count": 2,
   "id": "f7418877-a853-4c87-8716-8917bca10eaf",
   "metadata": {},
   "outputs": [],
   "source": [
    "import multiprocessing\n",
    "def child_process():\n",
    "    print(\"This is the child process.\")\n",
    "process = multiprocessing.Process(target=child_process)\n",
    "process.start()\n",
    "process.join()"
   ]
  },
  {
   "cell_type": "markdown",
   "id": "be51eadd-204f-47c3-91e3-c2c246dac2c3",
   "metadata": {},
   "source": [
    "## Q.19)What is the importance of closing a file in Python?"
   ]
  },
  {
   "cell_type": "markdown",
   "id": "c4dad0f1-d39a-41d8-82e6-20583c6206c9",
   "metadata": {},
   "source": [
    "### Ans:-Closing afile ensures that resources are freed and data is properly saved to disk.Not closingfiles may cause data loss or corruption."
   ]
  },
  {
   "cell_type": "code",
   "execution_count": 15,
   "id": "5fdd4aab-2686-48c1-bb4e-4f4898c22342",
   "metadata": {},
   "outputs": [],
   "source": [
    "file = open(\"model.txt\", \"r\")\n",
    "content = file.read()\n",
    "file.close()"
   ]
  },
  {
   "cell_type": "code",
   "execution_count": 16,
   "id": "46a110ed-9df2-4a77-b51c-a3136b03a58b",
   "metadata": {},
   "outputs": [],
   "source": [
    "with open(\"model.txt\", \"r\") as file:\n",
    "    content = file.read()"
   ]
  },
  {
   "cell_type": "markdown",
   "id": "b4009475-78c1-4080-95b8-f80d331c87fc",
   "metadata": {},
   "source": [
    "## Q.20) What is the difference between file.read() and file.readline() in Python?"
   ]
  },
  {
   "cell_type": "markdown",
   "id": "15d27673-b9a2-491c-90c2-82b2e4bcdfd9",
   "metadata": {},
   "source": [
    "### Ans:-i) File.read():- Reads the entire file or a specified number of bytes at once. ii) File.readline():- Reads a single line from the file at a time."
   ]
  },
  {
   "cell_type": "code",
   "execution_count": 4,
   "id": "b84b33dc-fd13-4b92-afba-d707571d6336",
   "metadata": {},
   "outputs": [
    {
     "name": "stdout",
     "output_type": "stream",
     "text": [
      "This is my first note\n",
      "I am Laltu Kaibarrta\n"
     ]
    }
   ],
   "source": [
    "with open(\"model.txt\", \"r\") as file:\n",
    "    content = file.read()\n",
    "    print(content)"
   ]
  },
  {
   "cell_type": "code",
   "execution_count": 5,
   "id": "8cae3009-9ec6-4e7d-9801-9f0fba28da72",
   "metadata": {},
   "outputs": [
    {
     "name": "stdout",
     "output_type": "stream",
     "text": [
      "This is my first note\n",
      "\n"
     ]
    }
   ],
   "source": [
    "with open(\"model.txt\", \"r\") as file:\n",
    "    first_line = file.readline()\n",
    "    print(first_line)"
   ]
  },
  {
   "cell_type": "markdown",
   "id": "866f097e-b0da-4ef1-820d-3b92fb860972",
   "metadata": {},
   "source": [
    "## Q.21) What is the logging module in Python used for?"
   ]
  },
  {
   "cell_type": "markdown",
   "id": "85867423-26f6-4c8b-ab5d-4ed30a40e7cd",
   "metadata": {},
   "source": [
    "### Ans:-The logging module provides a way to track events during software execution.it helps in debugging monitoring and error tracking."
   ]
  },
  {
   "cell_type": "code",
   "execution_count": 7,
   "id": "db479ec7-ff40-40af-8dec-82903d6a87da",
   "metadata": {},
   "outputs": [],
   "source": [
    "import logging\n",
    "logging.basicConfig(filename=\"app.log\", level=logging.DEBUG,\n",
    "                    format=\"%(asctime)s - %(levelname)s - %(message)s\")\n",
    "logging.debug(\"This will be saved app.log\")"
   ]
  },
  {
   "cell_type": "markdown",
   "id": "ec263875-89c8-47db-965a-b8ff3ea80398",
   "metadata": {},
   "source": [
    "## Q.22) What is the os module in Python used for in file handling?"
   ]
  },
  {
   "cell_type": "markdown",
   "id": "0a1fc8ff-8cac-4594-96ac-6dee8020575c",
   "metadata": {},
   "source": [
    "### Ans:-The os module provides functions for interacting with the operating system such as creating,deleting and navigating files and directories."
   ]
  },
  {
   "cell_type": "markdown",
   "id": "d03f0155-a92d-44f5-b533-c5a0cadd5572",
   "metadata": {},
   "source": [
    "## Q.23) What are the challenges associated with memory management in Python?"
   ]
  },
  {
   "cell_type": "markdown",
   "id": "d826ecc3-9989-48e4-a24e-43e8c2d87890",
   "metadata": {},
   "source": [
    "### Ans:-Challenges include memory leaks due to circular references and inefficient use of memory especially with large data structures."
   ]
  },
  {
   "cell_type": "markdown",
   "id": "7b0b0684-7ef9-4cc6-8ac5-2e45b2414aef",
   "metadata": {},
   "source": [
    "## Q.24) How do you raise an exception manually in Python?"
   ]
  },
  {
   "cell_type": "markdown",
   "id": "9551dd98-1c51-4a22-92c8-90e52c921653",
   "metadata": {},
   "source": [
    "### Ans:-You can raise an exception manually in python using the raise statement.You need to specify the exception class you want to raise and optionally provide an argument that gives more details about the exception."
   ]
  },
  {
   "cell_type": "code",
   "execution_count": 9,
   "id": "0a77a48a-0cd7-469c-9076-5415a5691562",
   "metadata": {},
   "outputs": [
    {
     "name": "stdout",
     "output_type": "stream",
     "text": [
      "Error: Division by zero is not allowed\n"
     ]
    }
   ],
   "source": [
    "def divide(a, b):\n",
    "    if b == 0:\n",
    "        raise ZeroDivisionError(\"Division by zero is not allowed\")\n",
    "    return a / b\n",
    "try:\n",
    "    result = divide(10, 0)\n",
    "except ZeroDivisionError as e:\n",
    "    print(f\"Error: {e}\")"
   ]
  },
  {
   "cell_type": "markdown",
   "id": "f301ef14-99a2-4c4f-92b5-adb44207e543",
   "metadata": {},
   "source": [
    "## Q.25) Why is it important to use multithreading in certain applications?"
   ]
  },
  {
   "cell_type": "markdown",
   "id": "1c141164-a8c8-4df1-965a-225d7bca81a2",
   "metadata": {},
   "source": [
    "### Ans:-Multithreading is useful when performing I/O bound tasks such as web scraping or file I/O as it allows for concurrent execution improving efficiency."
   ]
  },
  {
   "cell_type": "markdown",
   "id": "260710cb-1a8c-457d-8b5e-93c09aaee96d",
   "metadata": {},
   "source": [
    "# Practial Answer"
   ]
  },
  {
   "cell_type": "markdown",
   "id": "91eea9c5-eace-4ab2-99e0-92da9d5d64a1",
   "metadata": {},
   "source": [
    "## Q.1) How can you open a file for writing in Python and write a string to it?"
   ]
  },
  {
   "cell_type": "code",
   "execution_count": 1,
   "id": "322d3b49-d999-4222-be91-adae5efcf926",
   "metadata": {},
   "outputs": [
    {
     "name": "stdout",
     "output_type": "stream",
     "text": [
      "File written successfully.\n"
     ]
    }
   ],
   "source": [
    "with open(\"model.txt\", \"w\") as file:\n",
    "    file.write(\"Hello, I am Laltu\")\n",
    "print(\"File written successfully.\")"
   ]
  },
  {
   "cell_type": "markdown",
   "id": "7cc1f115-b9d3-4c94-842f-8c67e26ba057",
   "metadata": {},
   "source": [
    "## Q.2) Write a Python program to read the contents of a file and print each line."
   ]
  },
  {
   "cell_type": "code",
   "execution_count": 2,
   "id": "d9ca09e3-8ff3-45a8-a207-b46762b5a7fc",
   "metadata": {},
   "outputs": [
    {
     "name": "stdout",
     "output_type": "stream",
     "text": [
      "Hello, I am Laltu\n",
      "File reading completed.\n"
     ]
    }
   ],
   "source": [
    "with open(\"model.txt\", \"r\") as file:\n",
    "    for line in file:\n",
    "        print(line.strip())\n",
    "\n",
    "print(\"File reading completed.\")"
   ]
  },
  {
   "cell_type": "markdown",
   "id": "0fcc4d33-1110-45de-927f-34f86731ce1b",
   "metadata": {},
   "source": [
    "## Q.3) How would you handle a case where the file doesn't exist while trying to open it for reading ?"
   ]
  },
  {
   "cell_type": "code",
   "execution_count": 3,
   "id": "f5082c10-bdf3-42b3-95ea-ca819a2eab70",
   "metadata": {},
   "outputs": [
    {
     "name": "stdout",
     "output_type": "stream",
     "text": [
      "Error: The file does not exist.\n"
     ]
    }
   ],
   "source": [
    "try:\n",
    "    with open(\"non_existent_file.txt\", \"r\") as file:\n",
    "        for line in file:\n",
    "            print(line.strip())\n",
    "except FileNotFoundError:\n",
    "    print(\"Error: The file does not exist.\")"
   ]
  },
  {
   "cell_type": "markdown",
   "id": "6df1b44f-ef5b-4eb4-9d9b-05dc98bdc465",
   "metadata": {},
   "source": [
    "## Q.4) Write a Python script that reads from one file and writes its content to another file."
   ]
  },
  {
   "cell_type": "code",
   "execution_count": 4,
   "id": "941e3654-cdfd-4d77-abf4-ecfdf5629eec",
   "metadata": {},
   "outputs": [
    {
     "name": "stdout",
     "output_type": "stream",
     "text": [
      "File copy successfilly.\n"
     ]
    }
   ],
   "source": [
    "with open(\"model.txt\", \"r\") as source_file, open(\"destination.txt\", \"w\") as destination_file:\n",
    "    for line in source_file:\n",
    "        destination_file.write(line)\n",
    "\n",
    "print(\"File copy successfilly.\")"
   ]
  },
  {
   "cell_type": "markdown",
   "id": "3f7e5dcc-3bc4-4ac3-bcf1-8e6089b59372",
   "metadata": {},
   "source": [
    "## Q.5) How would you catch and handle division by zero error in Python?"
   ]
  },
  {
   "cell_type": "code",
   "execution_count": 5,
   "id": "0a45179b-0933-4481-b72e-4fac5e6734f1",
   "metadata": {},
   "outputs": [
    {
     "name": "stdout",
     "output_type": "stream",
     "text": [
      "Error: Zero division not allowed.\n"
     ]
    }
   ],
   "source": [
    "try:\n",
    "    result = 10 / 0\n",
    "except ZeroDivisionError:\n",
    "    print(\"Error: Zero division not allowed.\")"
   ]
  },
  {
   "cell_type": "markdown",
   "id": "74de9366-cb95-4ff9-8d0f-5be5fd33dbbc",
   "metadata": {},
   "source": [
    "## Q.6) Write a Python program that logs an error message to a log file when a division by zero exception occurs."
   ]
  },
  {
   "cell_type": "code",
   "execution_count": 6,
   "id": "5d0cbf3e-d5a6-47e3-a924-9b8b114f7ee8",
   "metadata": {},
   "outputs": [
    {
     "name": "stdout",
     "output_type": "stream",
     "text": [
      "Error log file.\n"
     ]
    }
   ],
   "source": [
    "import logging\n",
    "logging.basicConfig(filename=\"error.log\", level=logging.ERROR)\n",
    "try:\n",
    "    result = 10 / 0\n",
    "except ZeroDivisionError as e:\n",
    "    logging.error(f\"Zero division error: {e}\")\n",
    "    print(\"Error log file.\")"
   ]
  },
  {
   "cell_type": "markdown",
   "id": "1d58fef2-653c-43d9-8cc6-8cf188dcd499",
   "metadata": {},
   "source": [
    "## Q.7)  How do you log information at different levels (INFO, ERROR, WARNING) in Python using the logging module?"
   ]
  },
  {
   "cell_type": "code",
   "execution_count": 1,
   "id": "d8f31f90-c9c3-4163-95ea-1c218f6ed84a",
   "metadata": {},
   "outputs": [
    {
     "name": "stderr",
     "output_type": "stream",
     "text": [
      "DEBUG - This is a DEBUG message.\n",
      "INFO - This is an INFO message.\n",
      "WARNING - This is a WARNING message.\n",
      "ERROR - This is an ERROR message.\n",
      "CRITICAL - This is a CRITICAL message.\n"
     ]
    }
   ],
   "source": [
    "import logging\n",
    "\n",
    "logging.basicConfig(level=logging.DEBUG, format=\"%(levelname)s - %(message)s\")\n",
    "\n",
    "logging.debug(\"This is a DEBUG message.\")\n",
    "logging.info(\"This is an INFO message.\")\n",
    "logging.warning(\"This is a WARNING message.\")\n",
    "logging.error(\"This is an ERROR message.\")\n",
    "logging.critical(\"This is a CRITICAL message.\")"
   ]
  },
  {
   "cell_type": "markdown",
   "id": "57ddf500-7d39-4f55-9581-f35944c9af8c",
   "metadata": {},
   "source": [
    "## Q.8) Write a program to handle a file opening error using exception handling."
   ]
  },
  {
   "cell_type": "code",
   "execution_count": 2,
   "id": "a1eb8488-cd48-4a50-9f5d-2387a57066c6",
   "metadata": {},
   "outputs": [
    {
     "name": "stdout",
     "output_type": "stream",
     "text": [
      "Error: File not found.\n"
     ]
    }
   ],
   "source": [
    "try:\n",
    "    with open(\"nonexistent.txt\", \"r\") as file:\n",
    "        content = file.read()\n",
    "except FileNotFoundError:\n",
    "    print(\"Error: File not found.\")"
   ]
  },
  {
   "cell_type": "markdown",
   "id": "91804a75-746b-464d-a3d4-a9c33f733b6f",
   "metadata": {},
   "source": [
    "## Q.9)  How can you read a file line by line and store its content in a list in Python?"
   ]
  },
  {
   "cell_type": "code",
   "execution_count": 3,
   "id": "06f1628a-6c22-4822-b823-087bd47b5056",
   "metadata": {},
   "outputs": [
    {
     "name": "stdout",
     "output_type": "stream",
     "text": [
      "['Hello, I am Laltu']\n"
     ]
    }
   ],
   "source": [
    "with open(\"model.txt\", \"r\") as file:\n",
    "    lines = [line.strip() for line in file]\n",
    "\n",
    "print(lines)"
   ]
  },
  {
   "cell_type": "markdown",
   "id": "81654756-06fb-4914-869a-bfe1971aeb19",
   "metadata": {},
   "source": [
    "## Q.10) How can you append data to an existing file in Python?"
   ]
  },
  {
   "cell_type": "code",
   "execution_count": 4,
   "id": "50a4bee1-4e09-43a3-9c5d-fd0ccb378fd8",
   "metadata": {},
   "outputs": [],
   "source": [
    "with open(\"model.txt\", \"a\") as file:\n",
    "    file.write(\"\\nNew chapter added.\")"
   ]
  },
  {
   "cell_type": "markdown",
   "id": "0345ce80-a2a8-4545-8e49-9531f9d2827d",
   "metadata": {},
   "source": [
    "## Q.11) Write a Python program that uses a try-except block to handle an error when attempting to access a dictionary key that doesn't exist."
   ]
  },
  {
   "cell_type": "code",
   "execution_count": 5,
   "id": "f97a56ad-1c15-4e11-9f55-7be1570b7acb",
   "metadata": {},
   "outputs": [
    {
     "name": "stdout",
     "output_type": "stream",
     "text": [
      "Error: Key does not exist.\n"
     ]
    }
   ],
   "source": [
    "data = {\"name\": \"Laltu\"}\n",
    "try:\n",
    "    print(data[\"age\"])\n",
    "except KeyError:\n",
    "    print(\"Error: Key does not exist.\")"
   ]
  },
  {
   "cell_type": "markdown",
   "id": "4d066c36-d5de-44a4-9c2b-ae3806c5037c",
   "metadata": {},
   "source": [
    "## Q.12) Write a program that demonstrates using multiple except blocks to handle different types of exceptions."
   ]
  },
  {
   "cell_type": "code",
   "execution_count": 6,
   "id": "df408b07-640e-470c-8797-e35223070968",
   "metadata": {},
   "outputs": [
    {
     "name": "stdout",
     "output_type": "stream",
     "text": [
      "Error: Invalid number.\n"
     ]
    }
   ],
   "source": [
    "try:\n",
    "    num = int(\"invalid\")\n",
    "    result = 10 / 0\n",
    "except ValueError:\n",
    "    print(\"Error: Invalid number.\")\n",
    "except ZeroDivisonError:\n",
    "    print(\"Error: Can not divide by zero.\")"
   ]
  },
  {
   "cell_type": "markdown",
   "id": "972e416e-3da3-4326-b9cf-10e73a1fdf2e",
   "metadata": {},
   "source": [
    "## Q.13)  How would you check if a file exists before attempting to read it in Python?"
   ]
  },
  {
   "cell_type": "code",
   "execution_count": 2,
   "id": "e438942e-0094-41ac-9740-3b305c3ab72e",
   "metadata": {},
   "outputs": [],
   "source": [
    "import os\n",
    "if os.path.exists(\"model.txt\"):\n",
    "    with open(\"model.txt\", \"r\") as file:\n",
    "        content = file.read()\n",
    "else:\n",
    "    print(\"Error: File does not exist.\")"
   ]
  },
  {
   "cell_type": "markdown",
   "id": "98f3bf7b-1c65-4d6e-8d49-f72d5209869b",
   "metadata": {},
   "source": [
    "## Q.14) Write a program that uses the logging module to log both informational and error messages."
   ]
  },
  {
   "cell_type": "code",
   "execution_count": 3,
   "id": "5a0db534-4eb6-4a92-b357-2dfea9e1fed4",
   "metadata": {},
   "outputs": [],
   "source": [
    "import logging\n",
    "logging.basicConfig(filename=\"app.log\", level=logging.INFO)\n",
    "logging.info(\"Program stared.\")\n",
    "try:\n",
    "    result = 10 / 0\n",
    "except ZeroDivisionError:\n",
    "    logging.error(\"Zero division error.\")"
   ]
  },
  {
   "cell_type": "markdown",
   "id": "cbccf301-6501-43c2-adb9-28a574519b0d",
   "metadata": {},
   "source": [
    "## Q.15)  Write a Python program that prints the content of a file and handles the case when the file is empty."
   ]
  },
  {
   "cell_type": "code",
   "execution_count": 4,
   "id": "61fccc33-580d-457e-9de2-0aa86d1f9c7f",
   "metadata": {},
   "outputs": [
    {
     "name": "stdout",
     "output_type": "stream",
     "text": [
      "Hello, I am Laltu\n",
      "New line added.\n",
      "New line added.\n",
      "New chapter added.\n"
     ]
    }
   ],
   "source": [
    "with open(\"model.txt\", \"r\") as file:\n",
    "    content = file.read()\n",
    "    if not content:\n",
    "        print(\"File is empty.\")\n",
    "    else:\n",
    "        print(content)"
   ]
  },
  {
   "cell_type": "markdown",
   "id": "e71a9bc6-b961-498a-b3ad-acef94bf947d",
   "metadata": {},
   "source": [
    "## Q.16) Demonstrate how to use memory profiling to check the memory usage of a small program."
   ]
  },
  {
   "cell_type": "code",
   "execution_count": 12,
   "id": "5b401bd1-4c37-4a25-b322-42afb723edac",
   "metadata": {},
   "outputs": [
    {
     "name": "stdout",
     "output_type": "stream",
     "text": [
      "Defaulting to user installation because normal site-packages is not writeable\n",
      "Requirement already satisfied: memory_profiler in c:\\users\\user\\appdata\\roaming\\python\\python312\\site-packages (0.61.0)\n",
      "Requirement already satisfied: psutil in c:\\programdata\\anaconda3\\lib\\site-packages (from memory_profiler) (5.9.0)\n"
     ]
    }
   ],
   "source": [
    "!pip install memory_profiler"
   ]
  },
  {
   "cell_type": "code",
   "execution_count": 1,
   "id": "daf7a48c-c466-407b-8001-1298c43f4da1",
   "metadata": {},
   "outputs": [
    {
     "name": "stdout",
     "output_type": "stream",
     "text": [
      "ERROR: Could not find file C:\\Users\\user\\AppData\\Local\\Temp\\ipykernel_24372\\722626026.py\n"
     ]
    },
    {
     "data": {
      "text/plain": [
       "[0,\n",
       " 1,\n",
       " 2,\n",
       " 3,\n",
       " 4,\n",
       " 5,\n",
       " 6,\n",
       " 7,\n",
       " 8,\n",
       " 9,\n",
       " 10,\n",
       " 11,\n",
       " 12,\n",
       " 13,\n",
       " 14,\n",
       " 15,\n",
       " 16,\n",
       " 17,\n",
       " 18,\n",
       " 19,\n",
       " 20,\n",
       " 21,\n",
       " 22,\n",
       " 23,\n",
       " 24,\n",
       " 25,\n",
       " 26,\n",
       " 27,\n",
       " 28,\n",
       " 29,\n",
       " 30,\n",
       " 31,\n",
       " 32,\n",
       " 33,\n",
       " 34,\n",
       " 35,\n",
       " 36,\n",
       " 37,\n",
       " 38,\n",
       " 39,\n",
       " 40,\n",
       " 41,\n",
       " 42,\n",
       " 43,\n",
       " 44,\n",
       " 45,\n",
       " 46,\n",
       " 47,\n",
       " 48,\n",
       " 49]"
      ]
     },
     "execution_count": 1,
     "metadata": {},
     "output_type": "execute_result"
    }
   ],
   "source": [
    "from memory_profiler import profile\n",
    "\n",
    "@profile\n",
    "def test_function():\n",
    "    nums = [i for i in range(50)]\n",
    "    return nums\n",
    "\n",
    "test_function()"
   ]
  },
  {
   "cell_type": "markdown",
   "id": "e7f77f77-e049-4317-bdd3-3900a65382bc",
   "metadata": {},
   "source": [
    "## Q.17) Write a Python program to create and write a list of numbers to a file, one number per line."
   ]
  },
  {
   "cell_type": "code",
   "execution_count": 2,
   "id": "ef2e2e35-ace8-4320-a0fc-93df9861b05c",
   "metadata": {},
   "outputs": [],
   "source": [
    "number = [1, 2, 3, 4, 5]\n",
    "with open(\"number.txt\", \"w\") as file:\n",
    "    for num in number:\n",
    "        file.write(f\"{num}\\n\")"
   ]
  },
  {
   "cell_type": "markdown",
   "id": "44a96a87-e332-492b-ab67-d043eded65a4",
   "metadata": {},
   "source": [
    "## Q.18) How would you implement a basic logging setup that logs to a file with rotation after 1MB?"
   ]
  },
  {
   "cell_type": "code",
   "execution_count": 4,
   "id": "35263ce5-2369-49bc-999d-2243cff53e93",
   "metadata": {},
   "outputs": [],
   "source": [
    "import logging\n",
    "from logging.handlers import RotatingFileHandler\n",
    "handler = RotatingFileHandler(\"app.log\", maxBytes=1_048_576, backupCount=3)\n",
    "logging.basicConfig(handlers=[handler], level=logging.INFO)\n",
    "logging.info(\"Log rotation enabled.\")"
   ]
  },
  {
   "cell_type": "markdown",
   "id": "24c98b2e-3c66-4935-b45b-32d57c932596",
   "metadata": {},
   "source": [
    "## Q.19) Write a program that handles both IndexError and KeyError using a try-except block."
   ]
  },
  {
   "cell_type": "code",
   "execution_count": 5,
   "id": "34bc2f64-b482-4e4f-85e0-e23b95deee32",
   "metadata": {},
   "outputs": [
    {
     "name": "stdout",
     "output_type": "stream",
     "text": [
      "Error: Dictionary key not found.\n"
     ]
    }
   ],
   "source": [
    "data = {\"name\": \"Laltu\"}\n",
    "item = [1, 2, 3]\n",
    "try:\n",
    "    print(data[\"age\"])\n",
    "    print(item[5])\n",
    "except KeyError:\n",
    "    print(\"Error: Dictionary key not found.\")\n",
    "except IndexError:\n",
    "    print(\"Error: List index out of range.\")"
   ]
  },
  {
   "cell_type": "markdown",
   "id": "032db7ee-d39d-4efd-8c77-1a39e83a816e",
   "metadata": {},
   "source": [
    "## Q.20) How would you open a file and read its contents using a context manager in Python?"
   ]
  },
  {
   "cell_type": "code",
   "execution_count": 6,
   "id": "4fd0570a-739e-48e9-b40e-042c33e1bc5f",
   "metadata": {},
   "outputs": [
    {
     "name": "stdout",
     "output_type": "stream",
     "text": [
      "Hello, I am Laltu\n",
      "New line added.\n",
      "New line added.\n",
      "New chapter added.\n"
     ]
    }
   ],
   "source": [
    "with open(\"model.txt\", \"r\") as file:\n",
    "    content = file.read()\n",
    "    print(content)"
   ]
  },
  {
   "cell_type": "markdown",
   "id": "604d52d4-3611-4013-af4a-697b1cf84187",
   "metadata": {},
   "source": [
    "## Q.21) Write a Python program that reads a file and prints the number of occurrences of a specific word."
   ]
  },
  {
   "cell_type": "code",
   "execution_count": 8,
   "id": "857bd324-a5e2-42ce-a81f-4967892ff84a",
   "metadata": {},
   "outputs": [
    {
     "name": "stdout",
     "output_type": "stream",
     "text": [
      "'Python' appears 0 times.\n"
     ]
    }
   ],
   "source": [
    "word_to_find = \"Python\"\n",
    "with open(\"model.txt\", \"r\") as file:\n",
    "    content = file.read()\n",
    "    count = content.count(word_to_find)\n",
    "print(f\"'{word_to_find}' appears {count} times.\")"
   ]
  },
  {
   "cell_type": "markdown",
   "id": "c8d56fba-3034-40eb-940a-50348bcddfb1",
   "metadata": {},
   "source": [
    "## Q.22) How can you check if a file is empty before attempting to read its contents?"
   ]
  },
  {
   "cell_type": "code",
   "execution_count": 10,
   "id": "c7e35885-f48e-499c-996f-864bc560a285",
   "metadata": {},
   "outputs": [
    {
     "name": "stdout",
     "output_type": "stream",
     "text": [
      "Hello, I am Laltu\n",
      "New line added.\n",
      "New line added.\n",
      "New chapter added.\n"
     ]
    }
   ],
   "source": [
    "import os\n",
    "if os.stat(\"model.txt\").st_size == 0:\n",
    "    print(\"File is empty.\")\n",
    "else:\n",
    "    with open(\"model.txt\", \"r\") as file:\n",
    "        print(file.read())"
   ]
  },
  {
   "cell_type": "markdown",
   "id": "9197a771-9cbf-4d6b-961b-1b7442a7397d",
   "metadata": {},
   "source": [
    "## Q.23) Write a Python program that writes to a log file when an error occurs during file handling."
   ]
  },
  {
   "cell_type": "code",
   "execution_count": 12,
   "id": "8c9ed10f-fb3a-4a8b-ac9c-0498688a6066",
   "metadata": {},
   "outputs": [
    {
     "name": "stdout",
     "output_type": "stream",
     "text": [
      "Error logged.\n"
     ]
    }
   ],
   "source": [
    "import logging\n",
    "logging.basicConfig(filename=\"file_errors.log\", level=logging.ERROR)\n",
    "try:\n",
    "    with open(\"missing_file.txt\", \"r\") as file:\n",
    "        content = file.read()\n",
    "except FileNotFoundError as e:\n",
    "    logging.error(f\"File error: {e}\")\n",
    "    print(\"Error logged.\")"
   ]
  },
  {
   "cell_type": "raw",
   "id": "ba8c047a-b213-4713-aba0-9f8aa7b3784d",
   "metadata": {},
   "source": [
    "---------------------------------------------------------------------------------------------------------------------------"
   ]
  }
 ],
 "metadata": {
  "kernelspec": {
   "display_name": "Python 3 (ipykernel)",
   "language": "python",
   "name": "python3"
  },
  "language_info": {
   "codemirror_mode": {
    "name": "ipython",
    "version": 3
   },
   "file_extension": ".py",
   "mimetype": "text/x-python",
   "name": "python",
   "nbconvert_exporter": "python",
   "pygments_lexer": "ipython3",
   "version": "3.12.7"
  }
 },
 "nbformat": 4,
 "nbformat_minor": 5
}
